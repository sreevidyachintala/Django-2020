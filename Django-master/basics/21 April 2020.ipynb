{
 "cells": [
  {
   "cell_type": "markdown",
   "metadata": {},
   "source": [
    "### Basic OOPS Concepts\n",
    "- Class\n",
    "    - Collection of variables and Methods\n",
    "    - Function : Collection of Statements\n",
    "    - Method : Function is inside the class then it is called method\n",
    "    - Syntax:\n",
    "        class class_name\n",
    "            vars\n",
    "            methods\n",
    "    - Rules for class name\n",
    "        - Name should starts with Uppercase\n",
    "- Object\n",
    "    - Instance of Class\n",
    "    - Syntax:\n",
    "        object_name = class_name\n",
    "- Constructor\n",
    "    - Advantage of constructor is without using object we wil call function.\n",
    "    - create object for class but does not use that object to call the function.\n",
    "    - Syntax:\n",
    "        class class_name:\n",
    "            def __init__(self):# default parameter is self.\n",
    "            def __init__(self,a,b):# first varaible acts as default parameter\n",
    "            def __init__(a,b,self):# here a acts as default parameter.\n",
    "- package and Modules:\n",
    "    - Package(Folder): Collection of modules\n",
    "    - Module(.py file): Collection of functions or classes\n",
    "    - Accessing modules -- Using import keyword and other ways also\n",
    "        - import package\n",
    "        - from Module import class\n",
    "        - from Module.class import function_name\n",
    "        - from Module.class import *\n",
    "- Inheritance\n",
    "     - Trying to inherit  something from parent class to child class\n",
    "     - syntax: class childclass(parentclass):\n",
    "     - Single level inheritence\n",
    "     - multilevel -- One or more parents or one or more child.\n",
    "     - multiple -- multiple/morethan one parents and single child.\n",
    "     - hybrid -- multiple parents and multiple child // Combination of all inhritance.\n",
    "- Polymorphism\n",
    "    - Same class with different parameters or single action in many ways.\n"
   ]
  },
  {
   "cell_type": "code",
   "execution_count": 1,
   "metadata": {},
   "outputs": [],
   "source": [
    "class Hi:\n",
    "    a=10\n",
    "    b=7\n",
    "    def display():\n",
    "        print(\"Hii iam from display function\")"
   ]
  },
  {
   "cell_type": "code",
   "execution_count": 11,
   "metadata": {},
   "outputs": [
    {
     "name": "stdout",
     "output_type": "stream",
     "text": [
      "10\n",
      "Hii iam from display function\n",
      "None\n"
     ]
    }
   ],
   "source": [
    "print(Hi.a)\n",
    "print(Hi.display())"
   ]
  },
  {
   "cell_type": "code",
   "execution_count": 3,
   "metadata": {},
   "outputs": [
    {
     "name": "stdout",
     "output_type": "stream",
     "text": [
      "Hii iam from display function\n"
     ]
    }
   ],
   "source": [
    "Hi.display()"
   ]
  },
  {
   "cell_type": "code",
   "execution_count": 4,
   "metadata": {},
   "outputs": [],
   "source": [
    "obj=Hi"
   ]
  },
  {
   "cell_type": "code",
   "execution_count": 6,
   "metadata": {},
   "outputs": [
    {
     "name": "stdout",
     "output_type": "stream",
     "text": [
      "Hii iam from display function\n"
     ]
    }
   ],
   "source": [
    "obj.a\n",
    "obj.display()"
   ]
  },
  {
   "cell_type": "code",
   "execution_count": 7,
   "metadata": {},
   "outputs": [],
   "source": [
    "class Math:\n",
    "    \"\"\"Inside math there Iam defining add() and mul() \"\"\"\n",
    "    def add(a,b):\n",
    "        return a+b\n",
    "    def mul(a,b):\n",
    "        return a*b\n",
    "    "
   ]
  },
  {
   "cell_type": "code",
   "execution_count": 9,
   "metadata": {},
   "outputs": [
    {
     "data": {
      "text/plain": [
       "81"
      ]
     },
     "execution_count": 9,
     "metadata": {},
     "output_type": "execute_result"
    }
   ],
   "source": [
    "mt = Math # create obj name for class math\n",
    "mt.add(9,9)\n",
    "mt.mul(9,9)"
   ]
  },
  {
   "cell_type": "code",
   "execution_count": 21,
   "metadata": {},
   "outputs": [
    {
     "name": "stdout",
     "output_type": "stream",
     "text": [
      "Iam calling without using object\n"
     ]
    }
   ],
   "source": [
    "class Maths:\n",
    "    def __init__(self,name,number):\n",
    "        self.name=name\n",
    "        self.number=number\n",
    "        print(\"Iam calling without using object\")\n",
    "obj = Maths(5,15)"
   ]
  },
  {
   "cell_type": "code",
   "execution_count": 25,
   "metadata": {},
   "outputs": [
    {
     "data": {
      "text/plain": [
       "5"
      ]
     },
     "execution_count": 25,
     "metadata": {},
     "output_type": "execute_result"
    }
   ],
   "source": [
    "#self.name()\n",
    "obj.name"
   ]
  },
  {
   "cell_type": "code",
   "execution_count": 32,
   "metadata": {},
   "outputs": [
    {
     "name": "stdout",
     "output_type": "stream",
     "text": [
      "4\n",
      "5\n"
     ]
    },
    {
     "data": {
      "text/plain": [
       "9"
      ]
     },
     "execution_count": 32,
     "metadata": {},
     "output_type": "execute_result"
    }
   ],
   "source": [
    "class Math:\n",
    "    def __init__(abc,val1,val2):\n",
    "        abc.num1=val1\n",
    "        abc.num2=val2\n",
    "    def show(abc):\n",
    "        print(abc.num1)\n",
    "        print(abc.num2)\n",
    "    def add(abc):\n",
    "        return abc.num1+abc.num2\n",
    "ma=Math(4,5)\n",
    "ma.show()\n",
    "ma.add()"
   ]
  },
  {
   "cell_type": "code",
   "execution_count": 33,
   "metadata": {},
   "outputs": [
    {
     "name": "stdout",
     "output_type": "stream",
     "text": [
      "4\n",
      "5\n"
     ]
    },
    {
     "data": {
      "text/plain": [
       "10"
      ]
     },
     "execution_count": 33,
     "metadata": {},
     "output_type": "execute_result"
    }
   ],
   "source": [
    "class Math:\n",
    "    def __init__(abc,val1,val2):\n",
    "        abc.num1=val1\n",
    "        abc.num2=val2\n",
    "    def show(abc):\n",
    "        print(abc.num1)\n",
    "        print(abc.num2)\n",
    "    def add(abc,val3):\n",
    "        return abc.num1+abc.num2+val3\n",
    "math=Math(4,5)\n",
    "math.show()\n",
    "math.add(1)"
   ]
  },
  {
   "cell_type": "code",
   "execution_count": 17,
   "metadata": {},
   "outputs": [
    {
     "name": "stdout",
     "output_type": "stream",
     "text": [
      "Trail\n"
     ]
    }
   ],
   "source": [
    "class Cons:\n",
    "    def __mycons__(self):\n",
    "        print(\"Trail\")\n",
    "        \n",
    "ob = Cons()\n",
    "ob.__mycons__()"
   ]
  },
  {
   "cell_type": "code",
   "execution_count": 37,
   "metadata": {},
   "outputs": [
    {
     "data": {
      "text/plain": [
       "14"
      ]
     },
     "execution_count": 37,
     "metadata": {},
     "output_type": "execute_result"
    }
   ],
   "source": [
    "import myModule\n",
    "obj = myModule.Calci\n",
    "obj.add(8,6)"
   ]
  },
  {
   "cell_type": "code",
   "execution_count": 1,
   "metadata": {},
   "outputs": [
    {
     "name": "stdout",
     "output_type": "stream",
     "text": [
      "16\n",
      "64\n"
     ]
    }
   ],
   "source": [
    "#import myModule\n",
    "from myModule import Calci1\n",
    "obj = Calci1(8,8)\n",
    "print(obj.__add__())\n",
    "print(obj.__mul__())"
   ]
  },
  {
   "cell_type": "code",
   "execution_count": 12,
   "metadata": {},
   "outputs": [
    {
     "name": "stdout",
     "output_type": "stream",
     "text": [
      "('Ambika', 'ambika_p@apssdc.in', 'APSSDC')\n"
     ]
    }
   ],
   "source": [
    "class Userinfo:\n",
    "    def __init__(self,name,email,company):\n",
    "        self.name=name\n",
    "        self.email = email\n",
    "        self.company = company\n",
    "    def show(self):\n",
    "        return(self.name,self.email,self.company)\n",
    "ui = Userinfo('Ambika','ambika_p@apssdc.in','APSSDC')\n",
    "print(ui.show())"
   ]
  },
  {
   "cell_type": "code",
   "execution_count": 3,
   "metadata": {},
   "outputs": [
    {
     "name": "stdout",
     "output_type": "stream",
     "text": [
      "10\n"
     ]
    }
   ],
   "source": [
    "class ClassA():\n",
    "    a,b=10,20\n",
    "    def display():\n",
    "        print(\"hi Iam from class A\")\n",
    "class ClassB(ClassA):\n",
    "    c,d = 23,24\n",
    "    def show():\n",
    "        print(\"Iam from class B\")\n",
    "obj= ClassB\n",
    "print(obj.a)\n",
    "        "
   ]
  },
  {
   "cell_type": "code",
   "execution_count": 7,
   "metadata": {},
   "outputs": [
    {
     "ename": "RuntimeError",
     "evalue": "super(): no arguments",
     "output_type": "error",
     "traceback": [
      "\u001b[1;31m---------------------------------------------------------------------------\u001b[0m",
      "\u001b[1;31mRuntimeError\u001b[0m                              Traceback (most recent call last)",
      "\u001b[1;32m<ipython-input-7-71f36e1fa4c8>\u001b[0m in \u001b[0;36m<module>\u001b[1;34m\u001b[0m\n\u001b[0;32m     15\u001b[0m         \u001b[1;32mreturn\u001b[0m \u001b[0ma\u001b[0m\u001b[1;33m+\u001b[0m\u001b[0mb\u001b[0m\u001b[1;33m+\u001b[0m\u001b[0mc\u001b[0m\u001b[1;33m\u001b[0m\u001b[1;33m\u001b[0m\u001b[0m\n\u001b[0;32m     16\u001b[0m \u001b[0mobj\u001b[0m\u001b[1;33m=\u001b[0m \u001b[0mClassB\u001b[0m\u001b[1;33m\u001b[0m\u001b[1;33m\u001b[0m\u001b[0m\n\u001b[1;32m---> 17\u001b[1;33m \u001b[0mprint\u001b[0m\u001b[1;33m(\u001b[0m\u001b[0mobj\u001b[0m\u001b[1;33m.\u001b[0m\u001b[0mshow\u001b[0m\u001b[1;33m(\u001b[0m\u001b[1;33m)\u001b[0m\u001b[1;33m)\u001b[0m\u001b[1;33m\u001b[0m\u001b[1;33m\u001b[0m\u001b[0m\n\u001b[0m\u001b[0;32m     18\u001b[0m \u001b[1;31m#obj.add(2,3,6)\u001b[0m\u001b[1;33m\u001b[0m\u001b[1;33m\u001b[0m\u001b[1;33m\u001b[0m\u001b[0m\n",
      "\u001b[1;32m<ipython-input-7-71f36e1fa4c8>\u001b[0m in \u001b[0;36mshow\u001b[1;34m()\u001b[0m\n\u001b[0;32m     11\u001b[0m     \u001b[0mc\u001b[0m\u001b[1;33m,\u001b[0m\u001b[0md\u001b[0m \u001b[1;33m=\u001b[0m \u001b[1;36m23\u001b[0m\u001b[1;33m,\u001b[0m\u001b[1;36m24\u001b[0m\u001b[1;33m\u001b[0m\u001b[1;33m\u001b[0m\u001b[0m\n\u001b[0;32m     12\u001b[0m     \u001b[1;32mdef\u001b[0m \u001b[0mshow\u001b[0m\u001b[1;33m(\u001b[0m\u001b[1;33m)\u001b[0m\u001b[1;33m:\u001b[0m\u001b[1;33m\u001b[0m\u001b[1;33m\u001b[0m\u001b[0m\n\u001b[1;32m---> 13\u001b[1;33m         \u001b[0mprint\u001b[0m\u001b[1;33m(\u001b[0m\u001b[1;34m\"Iam from classA\"\u001b[0m\u001b[1;33m,\u001b[0m\u001b[0msuper\u001b[0m\u001b[1;33m(\u001b[0m\u001b[1;33m)\u001b[0m\u001b[1;33m.\u001b[0m\u001b[0ma\u001b[0m\u001b[1;33m)\u001b[0m\u001b[1;33m\u001b[0m\u001b[1;33m\u001b[0m\u001b[0m\n\u001b[0m\u001b[0;32m     14\u001b[0m     \u001b[1;32mdef\u001b[0m \u001b[0madd\u001b[0m\u001b[1;33m(\u001b[0m\u001b[0ma\u001b[0m\u001b[1;33m,\u001b[0m\u001b[0mb\u001b[0m\u001b[1;33m,\u001b[0m\u001b[0mc\u001b[0m\u001b[1;33m)\u001b[0m\u001b[1;33m:\u001b[0m\u001b[1;33m\u001b[0m\u001b[1;33m\u001b[0m\u001b[0m\n\u001b[0;32m     15\u001b[0m         \u001b[1;32mreturn\u001b[0m \u001b[0ma\u001b[0m\u001b[1;33m+\u001b[0m\u001b[0mb\u001b[0m\u001b[1;33m+\u001b[0m\u001b[0mc\u001b[0m\u001b[1;33m\u001b[0m\u001b[1;33m\u001b[0m\u001b[0m\n",
      "\u001b[1;31mRuntimeError\u001b[0m: super(): no arguments"
     ]
    }
   ],
   "source": [
    "class ClassA():\n",
    "    def __init__(self,a,b):\n",
    "        self.a = a\n",
    "        self.b = b\n",
    "    def display():\n",
    "        print(\"hi Iam from class A\")\n",
    "    \n",
    "    def sub(a,b):\n",
    "        return a-b\n",
    "class ClassB(ClassA):\n",
    "    c,d = 23,24\n",
    "    def show():\n",
    "        print(\"Iam from classA\",super().a)\n",
    "    def add(a,b,c):\n",
    "        return a+b+c\n",
    "obj= ClassB\n",
    "print(obj.show())\n",
    "#obj.add(2,3,6)"
   ]
  },
  {
   "cell_type": "code",
   "execution_count": 8,
   "metadata": {},
   "outputs": [
    {
     "name": "stdout",
     "output_type": "stream",
     "text": [
      "7\n"
     ]
    }
   ],
   "source": [
    "# Single level Inheritence\n",
    "class A():\n",
    "    def __init__(self,a,b):\n",
    "        self.a = a\n",
    "        self.b = b\n",
    "        \n",
    "    def display(self):\n",
    "        print(\"Iam from class A\")\n",
    "class B(A):\n",
    "    def __init__(self,a,b,c):\n",
    "        self.c = c\n",
    "        super().__init__(a,b)\n",
    "        #super(self)\n",
    "    def show(self):\n",
    "        print(self.c)\n",
    "obj = B(5,6,7)\n",
    "obj.show()"
   ]
  },
  {
   "cell_type": "code",
   "execution_count": 15,
   "metadata": {},
   "outputs": [
    {
     "name": "stdout",
     "output_type": "stream",
     "text": [
      "Iam from Class A\n",
      "Iam from Class B\n",
      "Iam from Class C\n"
     ]
    }
   ],
   "source": [
    "# Multi level Inheritance\n",
    "class A:\n",
    "    def classA():\n",
    "        print(\"Iam from Class A\")\n",
    "class B(A):\n",
    "    def classB():\n",
    "        print(\"Iam from Class B\")\n",
    "class C(B):\n",
    "    def classC():\n",
    "        print(\"Iam from Class C\")\n",
    "obj = C\n",
    "obj.classA()\n",
    "obj.classB()\n",
    "obj.classC()"
   ]
  },
  {
   "cell_type": "code",
   "execution_count": 16,
   "metadata": {},
   "outputs": [
    {
     "name": "stdout",
     "output_type": "stream",
     "text": [
      "Iam from Class A\n",
      "Iam from Class B\n",
      "Iam from Class C\n"
     ]
    }
   ],
   "source": [
    "# Multiple Inheritance\n",
    "class A:\n",
    "    def classA():\n",
    "        print(\"Iam from Class A\")\n",
    "class B:\n",
    "    def classB():\n",
    "        print(\"Iam from Class B\")\n",
    "class C(A,B):\n",
    "    def classC():\n",
    "        print(\"Iam from Class C\")\n",
    "obj = C\n",
    "obj.classA()\n",
    "obj.classB()\n",
    "obj.classC()"
   ]
  },
  {
   "cell_type": "code",
   "execution_count": null,
   "metadata": {},
   "outputs": [],
   "source": []
  }
 ],
 "metadata": {
  "kernelspec": {
   "display_name": "Python 3",
   "language": "python",
   "name": "python3"
  }
 },
 "nbformat": 4,
 "nbformat_minor": 2
}
